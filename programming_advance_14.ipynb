{
 "cells": [
  {
   "cell_type": "code",
   "execution_count": 17,
   "metadata": {},
   "outputs": [],
   "source": [
    "#1a)\n",
    "def show_the_love(mylist):\n",
    "    l = min(mylist)\n",
    "    summ =  0\n",
    "    k = 0\n",
    "    for index, i in enumerate(mylist):\n",
    "        if i != l:\n",
    "           summ += mylist[index] * 0.25\n",
    "           mylist[index] = mylist[index] * 0.75\n",
    "           \n",
    "          \n",
    "        else:\n",
    "            k = index\n",
    "    mylist[k]  += summ        \n",
    "    \n",
    "    return mylist"
   ]
  },
  {
   "cell_type": "code",
   "execution_count": 18,
   "metadata": {},
   "outputs": [
    {
     "name": "stdout",
     "output_type": "stream",
     "text": [
      "[3.0, 1, 4]\n",
      "1.0\n",
      "[3.0, 1, 3.0]\n",
      "2.0\n"
     ]
    },
    {
     "data": {
      "text/plain": [
       "[3.0, 3.0, 3.0]"
      ]
     },
     "execution_count": 18,
     "metadata": {},
     "output_type": "execute_result"
    }
   ],
   "source": [
    "show_the_love([4, 1, 4])"
   ]
  },
  {
   "cell_type": "code",
   "execution_count": 21,
   "metadata": {},
   "outputs": [],
   "source": [
    "#2a)\n",
    "def letters(string1,string2):\n",
    "    l = []\n",
    "    k = []\n",
    "    m = []\n",
    "    for i in string1:\n",
    "        if i in string2:\n",
    "            l.append(i)\n",
    "        else:\n",
    "            k.append(i)\n",
    "    for i in string2:\n",
    "        if i not in l:\n",
    "            m.append(i)\n",
    "    t = [l,k,m]       \n",
    "    return [\"\".join(i) for i in t]        "
   ]
  },
  {
   "cell_type": "code",
   "execution_count": 22,
   "metadata": {},
   "outputs": [
    {
     "data": {
      "text/plain": [
       "['sap', 'hr', 'o']"
      ]
     },
     "execution_count": 22,
     "metadata": {},
     "output_type": "execute_result"
    }
   ],
   "source": [
    "letters(\"sharp\", \"soap\") "
   ]
  },
  {
   "cell_type": "code",
   "execution_count": 27,
   "metadata": {},
   "outputs": [],
   "source": [
    "#3a)\n",
    "def pairs(mylist):\n",
    "    l = []\n",
    "    for i in range(len(mylist)):\n",
    "        if i < len(mylist)//2:\n",
    "           l.append([mylist[i],mylist[len(mylist)-1-i]])\n",
    "    if len(mylist) % 2 !=0:  \n",
    "       k =mylist[len(mylist)//2]\n",
    "       l.append([k,k])\n",
    "        \n",
    "    return l         "
   ]
  },
  {
   "cell_type": "code",
   "execution_count": 28,
   "metadata": {},
   "outputs": [
    {
     "data": {
      "text/plain": [
       "[[5, 2], [9, 1], [8, 8]]"
      ]
     },
     "execution_count": 28,
     "metadata": {},
     "output_type": "execute_result"
    }
   ],
   "source": [
    "pairs([5, 9, 8, 1, 2]) "
   ]
  },
  {
   "cell_type": "code",
   "execution_count": 29,
   "metadata": {},
   "outputs": [],
   "source": [
    "#4a)\n",
    "def add_str_nums(str1,str2):\n",
    "    try:\n",
    "        a = int(str1)\n",
    "        b = int(str2)\n",
    "        print(f'{a+b}')\n",
    "    except:\n",
    "          print(\"-1\")"
   ]
  },
  {
   "cell_type": "code",
   "execution_count": 30,
   "metadata": {},
   "outputs": [
    {
     "name": "stdout",
     "output_type": "stream",
     "text": [
      "-1\n"
     ]
    }
   ],
   "source": [
    "add_str_nums(\"abcdefg\", \"3\") "
   ]
  },
  {
   "cell_type": "code",
   "execution_count": 31,
   "metadata": {},
   "outputs": [
    {
     "name": "stdout",
     "output_type": "stream",
     "text": [
      "9\n"
     ]
    }
   ],
   "source": [
    "add_str_nums(\"4\", \"5\") "
   ]
  },
  {
   "cell_type": "code",
   "execution_count": 32,
   "metadata": {},
   "outputs": [
    {
     "name": "stdout",
     "output_type": "stream",
     "text": [
      "1874682736267235927391936562808774986\n"
     ]
    }
   ],
   "source": [
    "add_str_nums(\"1874682736267235927359283579235789257\", \"32652983572985729\") "
   ]
  },
  {
   "cell_type": "code",
   "execution_count": 5,
   "metadata": {},
   "outputs": [],
   "source": [
    "#5a)\n",
    "def unmix(string):\n",
    "    string = list(string)\n",
    "    i = 0\n",
    "    while(i<len(string)):\n",
    "        a = string[i]\n",
    "        string[i] = string[i+1]\n",
    "        string[i+1] = a\n",
    "        i+=2\n",
    "    return \"\".join(string)    \n",
    "        \n",
    "        "
   ]
  },
  {
   "cell_type": "code",
   "execution_count": 6,
   "metadata": {},
   "outputs": [
    {
     "data": {
      "text/plain": [
       "'This is a mixed up string.'"
      ]
     },
     "execution_count": 6,
     "metadata": {},
     "output_type": "execute_result"
    }
   ],
   "source": [
    "unmix(\"hTsii  s aimex dpus rtni.g\") "
   ]
  },
  {
   "cell_type": "code",
   "execution_count": null,
   "metadata": {},
   "outputs": [],
   "source": []
  }
 ],
 "metadata": {
  "kernelspec": {
   "display_name": "Python 3",
   "language": "python",
   "name": "python3"
  },
  "language_info": {
   "codemirror_mode": {
    "name": "ipython",
    "version": 3
   },
   "file_extension": ".py",
   "mimetype": "text/x-python",
   "name": "python",
   "nbconvert_exporter": "python",
   "pygments_lexer": "ipython3",
   "version": "3.8.3"
  }
 },
 "nbformat": 4,
 "nbformat_minor": 4
}
